{
 "cells": [
  {
   "cell_type": "markdown",
   "metadata": {},
   "source": [
    "# Capstone Project - Car Crash Severity Analysis (Week 3)\n",
    "### Applied Data Science Capstone by IBM/Coursera"
   ]
  },
  {
   "cell_type": "markdown",
   "metadata": {},
   "source": [
    "## Other links (i.e Report & Presentation)\n",
    "* https://1drv.ms/w/s!AqVQsWO6gA3LjCl0QdkFYvurx3Hb?e=uSKmBj\n",
    "* https://1drv.ms/p/s!AqVQsWO6gA3LjCterx90b6KUu_G1?e=azJHvo"
   ]
  },
  {
   "cell_type": "markdown",
   "metadata": {},
   "source": [
    "## Table of contents\n",
    "* [Introduction: Business Problem](#introduction)\n",
    "* [Data](#data)\n",
    "* [Methodology](#methodology)\n",
    "* [Analysis](#analysis)\n",
    "* [Results and Discussion](#results)\n",
    "* [Conclusion](#conclusion)"
   ]
  },
  {
   "cell_type": "markdown",
   "metadata": {},
   "source": [
    "\n",
    "\n",
    "## Introduction: Business Problem <a name=\"introduction\"></a>"
   ]
  },
  {
   "cell_type": "markdown",
   "metadata": {},
   "source": [
    "A major problem for **emergency responders** is to assess the severity of the distress. If more ambulance staff is dispatched, emergency responders might not have enough resources to effectively respond to a second distress call and if too few staff are dispatched, the number of casualities or injuries might increase. It is the same for police offciers and fire fighters. Deployment of too many or too few policemen and fire fighters is problematic hence it is of profound significance that emergency responders have an accurate estimate of the severity of traffic accidents they are rushing to attend to. What makes this an even more important challenge is the rising frequency of such incidents. The quantity of fatal crashes went from 508 in 2016 to 525 in 2017, resulting in the death of 555 people so the resources at disposal are getting even more stressed. \n",
    "\n",
    "This study aims to identify patterns and uncover insights that will help the responders deploy more efficiently and accurately. Some statistics have long been in the circulation e.g the highest number of crashes occur on Saturdays or in the month of November. This study attempts to uncover more insights and train a ML algorithm to accurately predict severity of a car crash.\n"
   ]
  },
  {
   "cell_type": "markdown",
   "metadata": {},
   "source": [
    "## Data <a name=\"data\"></a>"
   ]
  },
  {
   "cell_type": "markdown",
   "metadata": {},
   "source": [
    "The data for this study has been sourced from Seattle Traffic Department. It is high quality data because it has recorded many accidents under varying condions e.g the accidents on a specific block under snowy, rainy and sunny weather conditions. This degree of detail help identify relationships between important factors that collaborate to affect an accident's severity. \n",
    "\n",
    "Some fields from the data are briefly described below:\n",
    "- SEVERITYCODE: is the severity of the accident known? How severve was it? Did passengers incur only minor injuries or did it prove to be fatal?\n",
    "- COLLISIONTYPE: the motion of the vehicles involved\n",
    "- PERSONCOUNT: total number of people involved in the collision\n",
    "- PEDCOUNT: The number of pedestrians involved in the collision\n",
    "- INJURIES: The number of total injuries in the collision\n",
    "- SERIOUSINJURIES: The number of serious injuries in the collision\n",
    "- FATALITIES: The number of fatalities in the collision\n",
    "- JUNCTIONTYPE: Category of junction at which collision took place\n",
    "- WEATHER: The description of the weather conditions during the time of the collision\n",
    "- ROADCOND: The condition of the road during the collision\n",
    "- SPEEDING: Whether or not speeding was a factor in the collision\n",
    "- INCDATE: The date of the incident\n",
    "- INCDTTM: The date and time of the incident.\n",
    "\n",
    "Futher features can be developed from the data set which may or may not be factors e.g INCDATE (date of incident) field can be used to create a new feature 'Day of Week' and the data might predict accidents tend to be more severe during certain days. \n"
   ]
  },
  {
   "cell_type": "markdown",
   "metadata": {},
   "source": [
    "### External resources"
   ]
  },
  {
   "cell_type": "code",
   "execution_count": 3,
   "metadata": {},
   "outputs": [],
   "source": [
    "import numpy as np\n",
    "import pandas as pd\n",
    "import seaborn as sns\n",
    "import matplotlib.pyplot as plt\n",
    "import itertools\n",
    "from matplotlib.ticker import NullFormatter\n",
    "from sklearn import preprocessing\n",
    "from sklearn.model_selection import train_test_split\n",
    "from sklearn.tree import DecisionTreeClassifier\n",
    "from sklearn.neighbors import KNeighborsClassifier\n",
    "from sklearn import metrics\n",
    "from sklearn import svm\n",
    "from sklearn.metrics import jaccard_score, f1_score, log_loss, accuracy_score\n",
    "%matplotlib inline"
   ]
  },
  {
   "cell_type": "markdown",
   "metadata": {},
   "source": [
    "### Get Raw Data"
   ]
  },
  {
   "cell_type": "code",
   "execution_count": 4,
   "metadata": {},
   "outputs": [
    {
     "name": "stderr",
     "output_type": "stream",
     "text": [
      "C:\\Users\\Rohaan\\anaconda3\\lib\\site-packages\\IPython\\core\\interactiveshell.py:3063: DtypeWarning: Columns (33) have mixed types.Specify dtype option on import or set low_memory=False.\n",
      "  interactivity=interactivity, compiler=compiler, result=result)\n"
     ]
    },
    {
     "data": {
      "text/html": [
       "<div>\n",
       "<style scoped>\n",
       "    .dataframe tbody tr th:only-of-type {\n",
       "        vertical-align: middle;\n",
       "    }\n",
       "\n",
       "    .dataframe tbody tr th {\n",
       "        vertical-align: top;\n",
       "    }\n",
       "\n",
       "    .dataframe thead th {\n",
       "        text-align: right;\n",
       "    }\n",
       "</style>\n",
       "<table border=\"1\" class=\"dataframe\">\n",
       "  <thead>\n",
       "    <tr style=\"text-align: right;\">\n",
       "      <th></th>\n",
       "      <th>SEVERITYCODE</th>\n",
       "      <th>X</th>\n",
       "      <th>Y</th>\n",
       "      <th>OBJECTID</th>\n",
       "      <th>INCKEY</th>\n",
       "      <th>COLDETKEY</th>\n",
       "      <th>REPORTNO</th>\n",
       "      <th>STATUS</th>\n",
       "      <th>ADDRTYPE</th>\n",
       "      <th>INTKEY</th>\n",
       "      <th>...</th>\n",
       "      <th>ROADCOND</th>\n",
       "      <th>LIGHTCOND</th>\n",
       "      <th>PEDROWNOTGRNT</th>\n",
       "      <th>SDOTCOLNUM</th>\n",
       "      <th>SPEEDING</th>\n",
       "      <th>ST_COLCODE</th>\n",
       "      <th>ST_COLDESC</th>\n",
       "      <th>SEGLANEKEY</th>\n",
       "      <th>CROSSWALKKEY</th>\n",
       "      <th>HITPARKEDCAR</th>\n",
       "    </tr>\n",
       "  </thead>\n",
       "  <tbody>\n",
       "    <tr>\n",
       "      <th>0</th>\n",
       "      <td>2</td>\n",
       "      <td>-122.323148</td>\n",
       "      <td>47.703140</td>\n",
       "      <td>1</td>\n",
       "      <td>1307</td>\n",
       "      <td>1307</td>\n",
       "      <td>3502005</td>\n",
       "      <td>Matched</td>\n",
       "      <td>Intersection</td>\n",
       "      <td>37475.0</td>\n",
       "      <td>...</td>\n",
       "      <td>Wet</td>\n",
       "      <td>Daylight</td>\n",
       "      <td>NaN</td>\n",
       "      <td>NaN</td>\n",
       "      <td>NaN</td>\n",
       "      <td>10</td>\n",
       "      <td>Entering at angle</td>\n",
       "      <td>0</td>\n",
       "      <td>0</td>\n",
       "      <td>N</td>\n",
       "    </tr>\n",
       "    <tr>\n",
       "      <th>1</th>\n",
       "      <td>1</td>\n",
       "      <td>-122.347294</td>\n",
       "      <td>47.647172</td>\n",
       "      <td>2</td>\n",
       "      <td>52200</td>\n",
       "      <td>52200</td>\n",
       "      <td>2607959</td>\n",
       "      <td>Matched</td>\n",
       "      <td>Block</td>\n",
       "      <td>NaN</td>\n",
       "      <td>...</td>\n",
       "      <td>Wet</td>\n",
       "      <td>Dark - Street Lights On</td>\n",
       "      <td>NaN</td>\n",
       "      <td>6354039.0</td>\n",
       "      <td>NaN</td>\n",
       "      <td>11</td>\n",
       "      <td>From same direction - both going straight - bo...</td>\n",
       "      <td>0</td>\n",
       "      <td>0</td>\n",
       "      <td>N</td>\n",
       "    </tr>\n",
       "    <tr>\n",
       "      <th>2</th>\n",
       "      <td>1</td>\n",
       "      <td>-122.334540</td>\n",
       "      <td>47.607871</td>\n",
       "      <td>3</td>\n",
       "      <td>26700</td>\n",
       "      <td>26700</td>\n",
       "      <td>1482393</td>\n",
       "      <td>Matched</td>\n",
       "      <td>Block</td>\n",
       "      <td>NaN</td>\n",
       "      <td>...</td>\n",
       "      <td>Dry</td>\n",
       "      <td>Daylight</td>\n",
       "      <td>NaN</td>\n",
       "      <td>4323031.0</td>\n",
       "      <td>NaN</td>\n",
       "      <td>32</td>\n",
       "      <td>One parked--one moving</td>\n",
       "      <td>0</td>\n",
       "      <td>0</td>\n",
       "      <td>N</td>\n",
       "    </tr>\n",
       "    <tr>\n",
       "      <th>3</th>\n",
       "      <td>1</td>\n",
       "      <td>-122.334803</td>\n",
       "      <td>47.604803</td>\n",
       "      <td>4</td>\n",
       "      <td>1144</td>\n",
       "      <td>1144</td>\n",
       "      <td>3503937</td>\n",
       "      <td>Matched</td>\n",
       "      <td>Block</td>\n",
       "      <td>NaN</td>\n",
       "      <td>...</td>\n",
       "      <td>Dry</td>\n",
       "      <td>Daylight</td>\n",
       "      <td>NaN</td>\n",
       "      <td>NaN</td>\n",
       "      <td>NaN</td>\n",
       "      <td>23</td>\n",
       "      <td>From same direction - all others</td>\n",
       "      <td>0</td>\n",
       "      <td>0</td>\n",
       "      <td>N</td>\n",
       "    </tr>\n",
       "    <tr>\n",
       "      <th>4</th>\n",
       "      <td>2</td>\n",
       "      <td>-122.306426</td>\n",
       "      <td>47.545739</td>\n",
       "      <td>5</td>\n",
       "      <td>17700</td>\n",
       "      <td>17700</td>\n",
       "      <td>1807429</td>\n",
       "      <td>Matched</td>\n",
       "      <td>Intersection</td>\n",
       "      <td>34387.0</td>\n",
       "      <td>...</td>\n",
       "      <td>Wet</td>\n",
       "      <td>Daylight</td>\n",
       "      <td>NaN</td>\n",
       "      <td>4028032.0</td>\n",
       "      <td>NaN</td>\n",
       "      <td>10</td>\n",
       "      <td>Entering at angle</td>\n",
       "      <td>0</td>\n",
       "      <td>0</td>\n",
       "      <td>N</td>\n",
       "    </tr>\n",
       "  </tbody>\n",
       "</table>\n",
       "<p>5 rows × 38 columns</p>\n",
       "</div>"
      ],
      "text/plain": [
       "   SEVERITYCODE           X          Y  OBJECTID  INCKEY  COLDETKEY REPORTNO  \\\n",
       "0             2 -122.323148  47.703140         1    1307       1307  3502005   \n",
       "1             1 -122.347294  47.647172         2   52200      52200  2607959   \n",
       "2             1 -122.334540  47.607871         3   26700      26700  1482393   \n",
       "3             1 -122.334803  47.604803         4    1144       1144  3503937   \n",
       "4             2 -122.306426  47.545739         5   17700      17700  1807429   \n",
       "\n",
       "    STATUS      ADDRTYPE   INTKEY  ... ROADCOND                LIGHTCOND  \\\n",
       "0  Matched  Intersection  37475.0  ...      Wet                 Daylight   \n",
       "1  Matched         Block      NaN  ...      Wet  Dark - Street Lights On   \n",
       "2  Matched         Block      NaN  ...      Dry                 Daylight   \n",
       "3  Matched         Block      NaN  ...      Dry                 Daylight   \n",
       "4  Matched  Intersection  34387.0  ...      Wet                 Daylight   \n",
       "\n",
       "  PEDROWNOTGRNT  SDOTCOLNUM SPEEDING ST_COLCODE  \\\n",
       "0           NaN         NaN      NaN         10   \n",
       "1           NaN   6354039.0      NaN         11   \n",
       "2           NaN   4323031.0      NaN         32   \n",
       "3           NaN         NaN      NaN         23   \n",
       "4           NaN   4028032.0      NaN         10   \n",
       "\n",
       "                                          ST_COLDESC  SEGLANEKEY  \\\n",
       "0                                  Entering at angle           0   \n",
       "1  From same direction - both going straight - bo...           0   \n",
       "2                             One parked--one moving           0   \n",
       "3                   From same direction - all others           0   \n",
       "4                                  Entering at angle           0   \n",
       "\n",
       "   CROSSWALKKEY  HITPARKEDCAR  \n",
       "0             0             N  \n",
       "1             0             N  \n",
       "2             0             N  \n",
       "3             0             N  \n",
       "4             0             N  \n",
       "\n",
       "[5 rows x 38 columns]"
      ]
     },
     "execution_count": 4,
     "metadata": {},
     "output_type": "execute_result"
    }
   ],
   "source": [
    "# Importing Data; Seattle accident data\n",
    "df = pd.read_csv('Data-Collisions.csv')\n",
    "df.head()"
   ]
  },
  {
   "cell_type": "markdown",
   "metadata": {},
   "source": [
    "## Methodology <a name=\"methodology\"></a>"
   ]
  },
  {
   "cell_type": "markdown",
   "metadata": {},
   "source": [
    "In this project the efforts have been directed on detecting high confidence relationships that can be used for predictions and training an AI that can utilize that data to make accurate predictions.\n",
    "\n",
    "The first stage in this study is to define a few functions that will ease the analysis and streamline coding. \n",
    "\n",
    "The second step is the **data wrangling**. All data fields have been accessed for their relevancy and removed if it has been estimated that they do not contain any critical information from a predicting perspective. Data formats have also  been worked out at this stage. Rows with unknown values have been removed as it is very difficult to come up with accurate averages/median values that will not contribute to divergence of the edited row from the rest of the data. It was futher established that times and dates of the data do not contain any significant skew. \n",
    "\n",
    "The third step in our analysis is the exploration of various relationships that might have a strong relation to the severity of car accidents. **Pearson Correlation** and **Spearman Correlations** were used for numerical data and pandas' built in **Describe function** was used for the object type data. \n",
    "\n",
    "In final step the study focused on the relevant fields areas and employed those to train various **Classification MLs** algorithms to develop the most accurate agent capable of predictions. Owing to intensive computational requirements of Regression ML and given their speciality in calculating probabilities, which is not the purpose here, Regression algorithms were not employed and only 'linear' algorithm of Support Vector Machine was tested. "
   ]
  },
  {
   "cell_type": "markdown",
   "metadata": {},
   "source": [
    "### Function Definitions"
   ]
  },
  {
   "cell_type": "code",
   "execution_count": 5,
   "metadata": {},
   "outputs": [],
   "source": [
    "# determines if dataframe has rows with missing values\n",
    "def is_data_missing(df_to_check):\n",
    "    missing_data = df_to_check.isnull()\n",
    "    for column in missing_data.columns.tolist():\n",
    "        if(missing_data[column].isnull):\n",
    "            print(column)\n",
    "            print(missing_data[column].value_counts())\n",
    "            \n",
    "# Balancing Labels\n",
    "def balance_labels(data_frame,series_name):\n",
    "    \"\"\" takes the data frame and series containing labels, diagnoses unbalancing and randomly choses fields to restore balance_co Series must have 2 labels\"\"\"\n",
    "    \n",
    "    # count labels\n",
    "    cnt_code_A, cnt_code_B = data_frame[series_name].value_counts()\n",
    "    \n",
    "    # determine skew\n",
    "    if(cnt_code_A != cnt_code_B):\n",
    "        \n",
    "        # determine number of additional records\n",
    "        delta = abs(cnt_code_A-cnt_code_B)\n",
    "        \n",
    "        # sort data\n",
    "        data_frame.sort_values(by = [series_name],inplace = True)\n",
    "        \n",
    "        # store codes\n",
    "        code_A = data_frame[series_name].iloc[0]\n",
    "        code_B = data_frame[series_name].iloc[-1]\n",
    "        \n",
    "        # randomly delete records to remove skew\n",
    "        if (cnt_code_A>cnt_code_B):\n",
    "            print('Data skewed towards label', code_A, 'by', delta, 'counts')\n",
    "            to_remove = np.random.choice(data_frame[data_frame[series_name] == code_A].index, delta ,replace=False)\n",
    "            data_frame.drop(to_remove, inplace = True)\n",
    "            print('Balance restored.')\n",
    "            \n",
    "        else:\n",
    "            print('Data skewed towards label', code_B, 'by', delta, 'counts')\n",
    "            to_remove = np.random.choice(data_frame[data_frame[series_name] == code_B].index, delta ,replace=False)\n",
    "            data_frame.drop(to_remove, inplace = True)\n",
    "            print('Balance restored.')\n",
    "    else:\n",
    "        print('No skew detected :)')\n",
    "        # fix skew via random selection\n",
    "        \n",
    "def evaluate_ai (y_testset, y_hat):\n",
    "    print(\"AI's Accuracy: \", round(metrics.accuracy_score(y_testset, y_hat),2))\n",
    "    print(\"AI's Jaccard Similarity Index: \", round(jaccard_score(y_testset, y_hat),2))\n",
    "    print(\"AI's F1 Score : \", round(f1_score(y_testset, y_hat),2))\n",
    "    print(\"AI's Log Loss: \", round(log_loss(y_testset, y_hat),2))"
   ]
  },
  {
   "cell_type": "markdown",
   "metadata": {},
   "source": [
    "### Data Wrangling"
   ]
  },
  {
   "cell_type": "code",
   "execution_count": 6,
   "metadata": {},
   "outputs": [
    {
     "data": {
      "text/plain": [
       "SEVERITYCODE      int64\n",
       "X               float64\n",
       "Y               float64\n",
       "INCDATE          object\n",
       "INCDTTM          object\n",
       "WEATHER          object\n",
       "ROADCOND         object\n",
       "LIGHTCOND        object\n",
       "HITPARKEDCAR     object\n",
       "SEGLANEKEY        int64\n",
       "dtype: object"
      ]
     },
     "execution_count": 6,
     "metadata": {},
     "output_type": "execute_result"
    }
   ],
   "source": [
    "# the parameters emergency responders will have access to\n",
    "clean_df = df[['SEVERITYCODE', # Target\n",
    "               'X',            # Some areas might have a higher \n",
    "               'Y',            # probability of more severe accidents\n",
    "               'INCDATE',      # distribution/week\n",
    "               'INCDTTM',       # distribution/time\n",
    "               'WEATHER',      # bad weather, more accidents?\n",
    "               'ROADCOND',     # bad condition, more severity?\n",
    "               'LIGHTCOND',    # bad light, more severity?\n",
    "               'HITPARKEDCAR',  # any pattern?\n",
    "               'SEGLANEKEY'\n",
    "              ]]\n",
    "\n",
    "clean_df.dtypes"
   ]
  },
  {
   "cell_type": "code",
   "execution_count": 9,
   "metadata": {},
   "outputs": [
    {
     "data": {
      "text/html": [
       "<div>\n",
       "<style scoped>\n",
       "    .dataframe tbody tr th:only-of-type {\n",
       "        vertical-align: middle;\n",
       "    }\n",
       "\n",
       "    .dataframe tbody tr th {\n",
       "        vertical-align: top;\n",
       "    }\n",
       "\n",
       "    .dataframe thead th {\n",
       "        text-align: right;\n",
       "    }\n",
       "</style>\n",
       "<table border=\"1\" class=\"dataframe\">\n",
       "  <thead>\n",
       "    <tr style=\"text-align: right;\">\n",
       "      <th></th>\n",
       "      <th>INCDATE</th>\n",
       "      <th>INCDTTM</th>\n",
       "      <th>WEATHER</th>\n",
       "      <th>ROADCOND</th>\n",
       "      <th>LIGHTCOND</th>\n",
       "      <th>HITPARKEDCAR</th>\n",
       "    </tr>\n",
       "  </thead>\n",
       "  <tbody>\n",
       "    <tr>\n",
       "      <th>count</th>\n",
       "      <td>194673</td>\n",
       "      <td>194673</td>\n",
       "      <td>189592</td>\n",
       "      <td>189661</td>\n",
       "      <td>189503</td>\n",
       "      <td>194673</td>\n",
       "    </tr>\n",
       "    <tr>\n",
       "      <th>unique</th>\n",
       "      <td>5985</td>\n",
       "      <td>162058</td>\n",
       "      <td>11</td>\n",
       "      <td>9</td>\n",
       "      <td>9</td>\n",
       "      <td>2</td>\n",
       "    </tr>\n",
       "    <tr>\n",
       "      <th>top</th>\n",
       "      <td>2006/11/02 00:00:00+00</td>\n",
       "      <td>11/2/2006</td>\n",
       "      <td>Clear</td>\n",
       "      <td>Dry</td>\n",
       "      <td>Daylight</td>\n",
       "      <td>N</td>\n",
       "    </tr>\n",
       "    <tr>\n",
       "      <th>freq</th>\n",
       "      <td>96</td>\n",
       "      <td>96</td>\n",
       "      <td>111135</td>\n",
       "      <td>124510</td>\n",
       "      <td>116137</td>\n",
       "      <td>187457</td>\n",
       "    </tr>\n",
       "  </tbody>\n",
       "</table>\n",
       "</div>"
      ],
      "text/plain": [
       "                       INCDATE    INCDTTM WEATHER ROADCOND LIGHTCOND  \\\n",
       "count                   194673     194673  189592   189661    189503   \n",
       "unique                    5985     162058      11        9         9   \n",
       "top     2006/11/02 00:00:00+00  11/2/2006   Clear      Dry  Daylight   \n",
       "freq                        96         96  111135   124510    116137   \n",
       "\n",
       "       HITPARKEDCAR  \n",
       "count        194673  \n",
       "unique            2  \n",
       "top               N  \n",
       "freq         187457  "
      ]
     },
     "execution_count": 9,
     "metadata": {},
     "output_type": "execute_result"
    }
   ],
   "source": [
    "# descriptive analysis\n",
    "clean_df.describe(include = 'object')"
   ]
  },
  {
   "cell_type": "code",
   "execution_count": 10,
   "metadata": {},
   "outputs": [
    {
     "name": "stdout",
     "output_type": "stream",
     "text": [
      "SEVERITYCODE\n",
      "False    194673\n",
      "Name: SEVERITYCODE, dtype: int64\n",
      "X\n",
      "False    189339\n",
      "True       5334\n",
      "Name: X, dtype: int64\n",
      "Y\n",
      "False    189339\n",
      "True       5334\n",
      "Name: Y, dtype: int64\n",
      "INCDATE\n",
      "False    194673\n",
      "Name: INCDATE, dtype: int64\n",
      "INCDTTM\n",
      "False    194673\n",
      "Name: INCDTTM, dtype: int64\n",
      "WEATHER\n",
      "False    189592\n",
      "True       5081\n",
      "Name: WEATHER, dtype: int64\n",
      "ROADCOND\n",
      "False    189661\n",
      "True       5012\n",
      "Name: ROADCOND, dtype: int64\n",
      "LIGHTCOND\n",
      "False    189503\n",
      "True       5170\n",
      "Name: LIGHTCOND, dtype: int64\n",
      "HITPARKEDCAR\n",
      "False    194673\n",
      "Name: HITPARKEDCAR, dtype: int64\n",
      "SEGLANEKEY\n",
      "False    194673\n",
      "Name: SEGLANEKEY, dtype: int64\n"
     ]
    }
   ],
   "source": [
    "# identifying missing data\n",
    "is_data_missing(clean_df) # self-wrote function"
   ]
  },
  {
   "cell_type": "markdown",
   "metadata": {},
   "source": [
    "- critical parameters are missing so better to just remove all of the missing rows"
   ]
  },
  {
   "cell_type": "code",
   "execution_count": 11,
   "metadata": {},
   "outputs": [
    {
     "name": "stderr",
     "output_type": "stream",
     "text": [
      "C:\\Users\\Rohaan\\anaconda3\\lib\\site-packages\\ipykernel_launcher.py:5: SettingWithCopyWarning: \n",
      "A value is trying to be set on a copy of a slice from a DataFrame\n",
      "\n",
      "See the caveats in the documentation: https://pandas.pydata.org/pandas-docs/stable/user_guide/indexing.html#returning-a-view-versus-a-copy\n",
      "  \"\"\"\n"
     ]
    },
    {
     "data": {
      "text/html": [
       "<div>\n",
       "<style scoped>\n",
       "    .dataframe tbody tr th:only-of-type {\n",
       "        vertical-align: middle;\n",
       "    }\n",
       "\n",
       "    .dataframe tbody tr th {\n",
       "        vertical-align: top;\n",
       "    }\n",
       "\n",
       "    .dataframe thead th {\n",
       "        text-align: right;\n",
       "    }\n",
       "</style>\n",
       "<table border=\"1\" class=\"dataframe\">\n",
       "  <thead>\n",
       "    <tr style=\"text-align: right;\">\n",
       "      <th></th>\n",
       "      <th>INCDATE</th>\n",
       "      <th>INCDTTM</th>\n",
       "      <th>WEATHER</th>\n",
       "      <th>ROADCOND</th>\n",
       "      <th>LIGHTCOND</th>\n",
       "      <th>HITPARKEDCAR</th>\n",
       "    </tr>\n",
       "  </thead>\n",
       "  <tbody>\n",
       "    <tr>\n",
       "      <th>count</th>\n",
       "      <td>184167</td>\n",
       "      <td>184167</td>\n",
       "      <td>184167</td>\n",
       "      <td>184167</td>\n",
       "      <td>184167</td>\n",
       "      <td>184167</td>\n",
       "    </tr>\n",
       "    <tr>\n",
       "      <th>unique</th>\n",
       "      <td>5947</td>\n",
       "      <td>155840</td>\n",
       "      <td>11</td>\n",
       "      <td>9</td>\n",
       "      <td>9</td>\n",
       "      <td>2</td>\n",
       "    </tr>\n",
       "    <tr>\n",
       "      <th>top</th>\n",
       "      <td>2006/11/02 00:00:00+00</td>\n",
       "      <td>11/2/2006</td>\n",
       "      <td>Clear</td>\n",
       "      <td>Dry</td>\n",
       "      <td>Daylight</td>\n",
       "      <td>N</td>\n",
       "    </tr>\n",
       "    <tr>\n",
       "      <th>freq</th>\n",
       "      <td>88</td>\n",
       "      <td>88</td>\n",
       "      <td>108833</td>\n",
       "      <td>121871</td>\n",
       "      <td>113522</td>\n",
       "      <td>177537</td>\n",
       "    </tr>\n",
       "  </tbody>\n",
       "</table>\n",
       "</div>"
      ],
      "text/plain": [
       "                       INCDATE    INCDTTM WEATHER ROADCOND LIGHTCOND  \\\n",
       "count                   184167     184167  184167   184167    184167   \n",
       "unique                    5947     155840      11        9         9   \n",
       "top     2006/11/02 00:00:00+00  11/2/2006   Clear      Dry  Daylight   \n",
       "freq                        88         88  108833   121871    113522   \n",
       "\n",
       "       HITPARKEDCAR  \n",
       "count        184167  \n",
       "unique            2  \n",
       "top               N  \n",
       "freq         177537  "
      ]
     },
     "execution_count": 11,
     "metadata": {},
     "output_type": "execute_result"
    }
   ],
   "source": [
    "# replace Unknowns with NAN\n",
    "clean_df.replace({'Unknown' : np.nan})\n",
    "\n",
    "# drop all rows with incomplete information\n",
    "clean_df.dropna(inplace = True)\n",
    "\n",
    "# descriptive analysis\n",
    "clean_df.describe(include='object')"
   ]
  },
  {
   "cell_type": "markdown",
   "metadata": {},
   "source": [
    "- HITPARKEDCAR can be binary encoded"
   ]
  },
  {
   "cell_type": "code",
   "execution_count": 12,
   "metadata": {},
   "outputs": [
    {
     "data": {
      "text/plain": [
       "array(['N', 'Y'], dtype=object)"
      ]
     },
     "execution_count": 12,
     "metadata": {},
     "output_type": "execute_result"
    }
   ],
   "source": [
    "clean_df.HITPARKEDCAR.unique()"
   ]
  },
  {
   "cell_type": "code",
   "execution_count": 13,
   "metadata": {},
   "outputs": [
    {
     "name": "stderr",
     "output_type": "stream",
     "text": [
      "C:\\Users\\Rohaan\\anaconda3\\lib\\site-packages\\pandas\\core\\generic.py:6746: SettingWithCopyWarning: \n",
      "A value is trying to be set on a copy of a slice from a DataFrame\n",
      "\n",
      "See the caveats in the documentation: https://pandas.pydata.org/pandas-docs/stable/user_guide/indexing.html#returning-a-view-versus-a-copy\n",
      "  self._update_inplace(new_data)\n"
     ]
    },
    {
     "data": {
      "text/plain": [
       "array([0, 1], dtype=int64)"
      ]
     },
     "execution_count": 13,
     "metadata": {},
     "output_type": "execute_result"
    }
   ],
   "source": [
    "clean_df.HITPARKEDCAR.replace(to_replace = {'N' : 0, 'Y' : 1}, inplace = True)\n",
    "clean_df.HITPARKEDCAR.unique()"
   ]
  },
  {
   "cell_type": "code",
   "execution_count": 14,
   "metadata": {},
   "outputs": [
    {
     "data": {
      "text/plain": [
       "<matplotlib.axes._subplots.AxesSubplot at 0x26c4eab9108>"
      ]
     },
     "execution_count": 14,
     "metadata": {},
     "output_type": "execute_result"
    },
    {
     "data": {
      "image/png": "[encoded data removed]",
      "text/plain": [
       "<Figure size 432x288 with 1 Axes>"
      ]
     },
     "metadata": {
      "needs_background": "light"
     },
     "output_type": "display_data"
    }
   ],
   "source": [
    "# making date and time useful\n",
    "\n",
    "# removing time section\n",
    "date_df = clean_df['INCDATE'].str.split(pat = \" \", n = 1, expand = True)\n",
    "date_df.drop(columns= [1], inplace = True)\n",
    "\n",
    "# reformating date in a useful way\n",
    "date_df.columns = ['Date']\n",
    "date_df = date_df.Date.str.split(pat = \"/\", n = -1, expand = True)\n",
    "date_df.columns = ['year','month','day']\n",
    "date_df['Date'] = pd.to_datetime(date_df)\n",
    "date_df.drop(columns = ['year','month','day'], inplace = True)\n",
    "\n",
    "# engineering features\n",
    "date_df['Day of Week'] = date_df['Date'].dt.dayofweek\n",
    "date_df['Day of Year'] = date_df['Date'].dt.dayofyear\n",
    "sns.distplot (a = date_df['Day of Week'])"
   ]
  },
  {
   "cell_type": "code",
   "execution_count": 15,
   "metadata": {},
   "outputs": [
    {
     "data": {
      "text/plain": [
       "<matplotlib.axes._subplots.AxesSubplot at 0x26c441c9288>"
      ]
     },
     "execution_count": 15,
     "metadata": {},
     "output_type": "execute_result"
    },
    {
     "data": {
      "image/png": "[encoded data removed]",
      "text/plain": [
       "<Figure size 432x288 with 1 Axes>"
      ]
     },
     "metadata": {
      "needs_background": "light"
     },
     "output_type": "display_data"
    }
   ],
   "source": [
    "sns.distplot (a = date_df['Day of Year'])"
   ]
  },
  {
   "cell_type": "code",
   "execution_count": 16,
   "metadata": {},
   "outputs": [
    {
     "name": "stderr",
     "output_type": "stream",
     "text": [
      "C:\\Users\\Rohaan\\anaconda3\\lib\\site-packages\\ipykernel_launcher.py:1: SettingWithCopyWarning: \n",
      "A value is trying to be set on a copy of a slice from a DataFrame.\n",
      "Try using .loc[row_indexer,col_indexer] = value instead\n",
      "\n",
      "See the caveats in the documentation: https://pandas.pydata.org/pandas-docs/stable/user_guide/indexing.html#returning-a-view-versus-a-copy\n",
      "  \"\"\"Entry point for launching an IPython kernel.\n",
      "C:\\Users\\Rohaan\\anaconda3\\lib\\site-packages\\ipykernel_launcher.py:2: SettingWithCopyWarning: \n",
      "A value is trying to be set on a copy of a slice from a DataFrame.\n",
      "Try using .loc[row_indexer,col_indexer] = value instead\n",
      "\n",
      "See the caveats in the documentation: https://pandas.pydata.org/pandas-docs/stable/user_guide/indexing.html#returning-a-view-versus-a-copy\n",
      "  \n"
     ]
    }
   ],
   "source": [
    "clean_df['Day of Week'] = date_df['Date'].dt.dayofweek\n",
    "clean_df['Day of Year'] = date_df['Date'].dt.dayofyear"
   ]
  },
  {
   "cell_type": "markdown",
   "metadata": {},
   "source": [
    "both have slight negative skews "
   ]
  },
  {
   "cell_type": "code",
   "execution_count": 17,
   "metadata": {},
   "outputs": [
    {
     "data": {
      "text/plain": [
       "<matplotlib.axes._subplots.AxesSubplot at 0x26c44395288>"
      ]
     },
     "execution_count": 17,
     "metadata": {},
     "output_type": "execute_result"
    },
    {
     "data": {
      "image/png": "[encoded data removed]",
      "text/plain": [
       "<Figure size 432x288 with 1 Axes>"
      ]
     },
     "metadata": {
      "needs_background": "light"
     },
     "output_type": "display_data"
    }
   ],
   "source": [
    "# convert time to 24H format\n",
    "time_df = pd.DataFrame(pd.to_datetime(clean_df['INCDTTM']))\n",
    "time_df.columns = ['Datetime']\n",
    "\n",
    "# extract hour, minute information\n",
    "time_df['Hour'] = time_df.Datetime.dt.hour\n",
    "time_df['Minutes'] = time_df.Datetime.dt.minute\n",
    "\n",
    "# engineer total hours feature\n",
    "time_df['Total Minutes'] = time_df['Hour']*60+time_df['Minutes']\n",
    "time_df['Total Minutes'].astype('int')\n",
    "\n",
    "# make bins\n",
    "bin_interval = 30 #minutes\n",
    "bins = np.linspace(min(time_df['Total Minutes']), max(time_df['Total Minutes']), int((24*60/bin_interval)+1))\n",
    "(x,) = bins.shape\n",
    "group_names = [*range(1,x)]\n",
    "time_df['total-minutes-binned'] = pd.cut(time_df['Total Minutes'], bins, labels=group_names, include_lowest=True )\n",
    "\n",
    "# visualize distribution\n",
    "sns.distplot(time_df['total-minutes-binned'])"
   ]
  },
  {
   "cell_type": "code",
   "execution_count": 18,
   "metadata": {},
   "outputs": [
    {
     "name": "stderr",
     "output_type": "stream",
     "text": [
      "C:\\Users\\Rohaan\\anaconda3\\lib\\site-packages\\pandas\\core\\frame.py:3997: SettingWithCopyWarning: \n",
      "A value is trying to be set on a copy of a slice from a DataFrame\n",
      "\n",
      "See the caveats in the documentation: https://pandas.pydata.org/pandas-docs/stable/user_guide/indexing.html#returning-a-view-versus-a-copy\n",
      "  errors=errors,\n",
      "C:\\Users\\Rohaan\\anaconda3\\lib\\site-packages\\ipykernel_launcher.py:5: SettingWithCopyWarning: \n",
      "A value is trying to be set on a copy of a slice from a DataFrame.\n",
      "Try using .loc[row_indexer,col_indexer] = value instead\n",
      "\n",
      "See the caveats in the documentation: https://pandas.pydata.org/pandas-docs/stable/user_guide/indexing.html#returning-a-view-versus-a-copy\n",
      "  \"\"\"\n",
      "C:\\Users\\Rohaan\\anaconda3\\lib\\site-packages\\ipykernel_launcher.py:6: SettingWithCopyWarning: \n",
      "A value is trying to be set on a copy of a slice from a DataFrame.\n",
      "Try using .loc[row_indexer,col_indexer] = value instead\n",
      "\n",
      "See the caveats in the documentation: https://pandas.pydata.org/pandas-docs/stable/user_guide/indexing.html#returning-a-view-versus-a-copy\n",
      "  \n",
      "C:\\Users\\Rohaan\\anaconda3\\lib\\site-packages\\ipykernel_launcher.py:7: SettingWithCopyWarning: \n",
      "A value is trying to be set on a copy of a slice from a DataFrame.\n",
      "Try using .loc[row_indexer,col_indexer] = value instead\n",
      "\n",
      "See the caveats in the documentation: https://pandas.pydata.org/pandas-docs/stable/user_guide/indexing.html#returning-a-view-versus-a-copy\n",
      "  import sys\n"
     ]
    },
    {
     "data": {
      "text/html": [
       "<div>\n",
       "<style scoped>\n",
       "    .dataframe tbody tr th:only-of-type {\n",
       "        vertical-align: middle;\n",
       "    }\n",
       "\n",
       "    .dataframe tbody tr th {\n",
       "        vertical-align: top;\n",
       "    }\n",
       "\n",
       "    .dataframe thead th {\n",
       "        text-align: right;\n",
       "    }\n",
       "</style>\n",
       "<table border=\"1\" class=\"dataframe\">\n",
       "  <thead>\n",
       "    <tr style=\"text-align: right;\">\n",
       "      <th></th>\n",
       "      <th>SEVERITYCODE</th>\n",
       "      <th>X</th>\n",
       "      <th>Y</th>\n",
       "      <th>WEATHER</th>\n",
       "      <th>ROADCOND</th>\n",
       "      <th>LIGHTCOND</th>\n",
       "      <th>HITPARKEDCAR</th>\n",
       "      <th>SEGLANEKEY</th>\n",
       "      <th>Day of Week</th>\n",
       "      <th>Day of Year</th>\n",
       "      <th>Date</th>\n",
       "      <th>Hour</th>\n",
       "      <th>Minutes</th>\n",
       "    </tr>\n",
       "  </thead>\n",
       "  <tbody>\n",
       "    <tr>\n",
       "      <th>0</th>\n",
       "      <td>2</td>\n",
       "      <td>-122.323148</td>\n",
       "      <td>47.703140</td>\n",
       "      <td>Overcast</td>\n",
       "      <td>Wet</td>\n",
       "      <td>Daylight</td>\n",
       "      <td>0</td>\n",
       "      <td>0</td>\n",
       "      <td>2</td>\n",
       "      <td>86</td>\n",
       "      <td>2013-03-27</td>\n",
       "      <td>14</td>\n",
       "      <td>54</td>\n",
       "    </tr>\n",
       "    <tr>\n",
       "      <th>1</th>\n",
       "      <td>1</td>\n",
       "      <td>-122.347294</td>\n",
       "      <td>47.647172</td>\n",
       "      <td>Raining</td>\n",
       "      <td>Wet</td>\n",
       "      <td>Dark - Street Lights On</td>\n",
       "      <td>0</td>\n",
       "      <td>0</td>\n",
       "      <td>2</td>\n",
       "      <td>354</td>\n",
       "      <td>2006-12-20</td>\n",
       "      <td>18</td>\n",
       "      <td>55</td>\n",
       "    </tr>\n",
       "    <tr>\n",
       "      <th>2</th>\n",
       "      <td>1</td>\n",
       "      <td>-122.334540</td>\n",
       "      <td>47.607871</td>\n",
       "      <td>Overcast</td>\n",
       "      <td>Dry</td>\n",
       "      <td>Daylight</td>\n",
       "      <td>0</td>\n",
       "      <td>0</td>\n",
       "      <td>3</td>\n",
       "      <td>323</td>\n",
       "      <td>2004-11-18</td>\n",
       "      <td>10</td>\n",
       "      <td>20</td>\n",
       "    </tr>\n",
       "    <tr>\n",
       "      <th>3</th>\n",
       "      <td>1</td>\n",
       "      <td>-122.334803</td>\n",
       "      <td>47.604803</td>\n",
       "      <td>Clear</td>\n",
       "      <td>Dry</td>\n",
       "      <td>Daylight</td>\n",
       "      <td>0</td>\n",
       "      <td>0</td>\n",
       "      <td>4</td>\n",
       "      <td>88</td>\n",
       "      <td>2013-03-29</td>\n",
       "      <td>9</td>\n",
       "      <td>26</td>\n",
       "    </tr>\n",
       "    <tr>\n",
       "      <th>4</th>\n",
       "      <td>2</td>\n",
       "      <td>-122.306426</td>\n",
       "      <td>47.545739</td>\n",
       "      <td>Raining</td>\n",
       "      <td>Wet</td>\n",
       "      <td>Daylight</td>\n",
       "      <td>0</td>\n",
       "      <td>0</td>\n",
       "      <td>2</td>\n",
       "      <td>28</td>\n",
       "      <td>2004-01-28</td>\n",
       "      <td>8</td>\n",
       "      <td>4</td>\n",
       "    </tr>\n",
       "    <tr>\n",
       "      <th>5</th>\n",
       "      <td>1</td>\n",
       "      <td>-122.387598</td>\n",
       "      <td>47.690575</td>\n",
       "      <td>Clear</td>\n",
       "      <td>Dry</td>\n",
       "      <td>Daylight</td>\n",
       "      <td>0</td>\n",
       "      <td>0</td>\n",
       "      <td>5</td>\n",
       "      <td>110</td>\n",
       "      <td>2019-04-20</td>\n",
       "      <td>17</td>\n",
       "      <td>42</td>\n",
       "    </tr>\n",
       "    <tr>\n",
       "      <th>6</th>\n",
       "      <td>1</td>\n",
       "      <td>-122.338485</td>\n",
       "      <td>47.618534</td>\n",
       "      <td>Raining</td>\n",
       "      <td>Wet</td>\n",
       "      <td>Daylight</td>\n",
       "      <td>0</td>\n",
       "      <td>0</td>\n",
       "      <td>1</td>\n",
       "      <td>344</td>\n",
       "      <td>2008-12-09</td>\n",
       "      <td>0</td>\n",
       "      <td>0</td>\n",
       "    </tr>\n",
       "    <tr>\n",
       "      <th>7</th>\n",
       "      <td>2</td>\n",
       "      <td>-122.320780</td>\n",
       "      <td>47.614076</td>\n",
       "      <td>Clear</td>\n",
       "      <td>Dry</td>\n",
       "      <td>Daylight</td>\n",
       "      <td>0</td>\n",
       "      <td>6855</td>\n",
       "      <td>2</td>\n",
       "      <td>106</td>\n",
       "      <td>2020-04-15</td>\n",
       "      <td>17</td>\n",
       "      <td>47</td>\n",
       "    </tr>\n",
       "    <tr>\n",
       "      <th>8</th>\n",
       "      <td>1</td>\n",
       "      <td>-122.335930</td>\n",
       "      <td>47.611904</td>\n",
       "      <td>Clear</td>\n",
       "      <td>Dry</td>\n",
       "      <td>Daylight</td>\n",
       "      <td>0</td>\n",
       "      <td>0</td>\n",
       "      <td>3</td>\n",
       "      <td>166</td>\n",
       "      <td>2006-06-15</td>\n",
       "      <td>13</td>\n",
       "      <td>0</td>\n",
       "    </tr>\n",
       "    <tr>\n",
       "      <th>9</th>\n",
       "      <td>2</td>\n",
       "      <td>-122.384700</td>\n",
       "      <td>47.528475</td>\n",
       "      <td>Clear</td>\n",
       "      <td>Dry</td>\n",
       "      <td>Daylight</td>\n",
       "      <td>0</td>\n",
       "      <td>0</td>\n",
       "      <td>0</td>\n",
       "      <td>79</td>\n",
       "      <td>2006-03-20</td>\n",
       "      <td>15</td>\n",
       "      <td>49</td>\n",
       "    </tr>\n",
       "  </tbody>\n",
       "</table>\n",
       "</div>"
      ],
      "text/plain": [
       "   SEVERITYCODE           X          Y   WEATHER ROADCOND  \\\n",
       "0             2 -122.323148  47.703140  Overcast      Wet   \n",
       "1             1 -122.347294  47.647172   Raining      Wet   \n",
       "2             1 -122.334540  47.607871  Overcast      Dry   \n",
       "3             1 -122.334803  47.604803     Clear      Dry   \n",
       "4             2 -122.306426  47.545739   Raining      Wet   \n",
       "5             1 -122.387598  47.690575     Clear      Dry   \n",
       "6             1 -122.338485  47.618534   Raining      Wet   \n",
       "7             2 -122.320780  47.614076     Clear      Dry   \n",
       "8             1 -122.335930  47.611904     Clear      Dry   \n",
       "9             2 -122.384700  47.528475     Clear      Dry   \n",
       "\n",
       "                 LIGHTCOND  HITPARKEDCAR  SEGLANEKEY  Day of Week  \\\n",
       "0                 Daylight             0           0            2   \n",
       "1  Dark - Street Lights On             0           0            2   \n",
       "2                 Daylight             0           0            3   \n",
       "3                 Daylight             0           0            4   \n",
       "4                 Daylight             0           0            2   \n",
       "5                 Daylight             0           0            5   \n",
       "6                 Daylight             0           0            1   \n",
       "7                 Daylight             0        6855            2   \n",
       "8                 Daylight             0           0            3   \n",
       "9                 Daylight             0           0            0   \n",
       "\n",
       "   Day of Year       Date  Hour  Minutes  \n",
       "0           86 2013-03-27    14       54  \n",
       "1          354 2006-12-20    18       55  \n",
       "2          323 2004-11-18    10       20  \n",
       "3           88 2013-03-29     9       26  \n",
       "4           28 2004-01-28     8        4  \n",
       "5          110 2019-04-20    17       42  \n",
       "6          344 2008-12-09     0        0  \n",
       "7          106 2020-04-15    17       47  \n",
       "8          166 2006-06-15    13        0  \n",
       "9           79 2006-03-20    15       49  "
      ]
     },
     "execution_count": 18,
     "metadata": {},
     "output_type": "execute_result"
    }
   ],
   "source": [
    "# drop unformatted, redundant data\n",
    "clean_df.drop(columns = ['INCDATE','INCDTTM'], inplace = True)\n",
    "\n",
    "# insert potentially time and date fields\n",
    "clean_df['Date'] = date_df['Date']\n",
    "clean_df['Hour'] = time_df['Hour']\n",
    "clean_df['Minutes'] = time_df['Minutes']\n",
    "\n",
    "# snippet of data\n",
    "clean_df.head(10)"
   ]
  },
  {
   "cell_type": "code",
   "execution_count": 19,
   "metadata": {},
   "outputs": [
    {
     "name": "stdout",
     "output_type": "stream",
     "text": [
      "Data skewed towards label 1 by 72141 counts\n",
      "Balance restored.\n"
     ]
    },
    {
     "name": "stderr",
     "output_type": "stream",
     "text": [
      "C:\\Users\\Rohaan\\anaconda3\\lib\\site-packages\\ipykernel_launcher.py:23: SettingWithCopyWarning: \n",
      "A value is trying to be set on a copy of a slice from a DataFrame\n",
      "\n",
      "See the caveats in the documentation: https://pandas.pydata.org/pandas-docs/stable/user_guide/indexing.html#returning-a-view-versus-a-copy\n",
      "C:\\Users\\Rohaan\\anaconda3\\lib\\site-packages\\pandas\\core\\frame.py:3997: SettingWithCopyWarning: \n",
      "A value is trying to be set on a copy of a slice from a DataFrame\n",
      "\n",
      "See the caveats in the documentation: https://pandas.pydata.org/pandas-docs/stable/user_guide/indexing.html#returning-a-view-versus-a-copy\n",
      "  errors=errors,\n"
     ]
    }
   ],
   "source": [
    "# balancing labels via random undersampling\n",
    "balance_labels(clean_df,'SEVERITYCODE')"
   ]
  },
  {
   "cell_type": "code",
   "execution_count": 20,
   "metadata": {},
   "outputs": [
    {
     "data": {
      "text/plain": [
       "2    56013\n",
       "1    56013\n",
       "Name: SEVERITYCODE, dtype: int64"
      ]
     },
     "execution_count": 20,
     "metadata": {},
     "output_type": "execute_result"
    }
   ],
   "source": [
    "clean_df.SEVERITYCODE.value_counts()"
   ]
  },
  {
   "cell_type": "markdown",
   "metadata": {},
   "source": [
    "### Data Exploration"
   ]
  },
  {
   "cell_type": "markdown",
   "metadata": {},
   "source": [
    "The suspicion is, following fields might play a critical role\n",
    "- Weather\n",
    "- Time\n",
    "- Day of Week\n",
    "- Light Condition\n",
    "- Road Condition\n",
    "- lattitude & longitude \n",
    "- Day of Year\n",
    "- Lane\n",
    "- Solar elevation"
   ]
  },
  {
   "cell_type": "markdown",
   "metadata": {},
   "source": [
    "**Exploring Correlations**"
   ]
  },
  {
   "cell_type": "code",
   "execution_count": 23,
   "metadata": {},
   "outputs": [
    {
     "data": {
      "text/html": [
       "<div>\n",
       "<style scoped>\n",
       "    .dataframe tbody tr th:only-of-type {\n",
       "        vertical-align: middle;\n",
       "    }\n",
       "\n",
       "    .dataframe tbody tr th {\n",
       "        vertical-align: top;\n",
       "    }\n",
       "\n",
       "    .dataframe thead th {\n",
       "        text-align: right;\n",
       "    }\n",
       "</style>\n",
       "<table border=\"1\" class=\"dataframe\">\n",
       "  <thead>\n",
       "    <tr style=\"text-align: right;\">\n",
       "      <th></th>\n",
       "      <th>SEVERITYCODE</th>\n",
       "      <th>X</th>\n",
       "      <th>Y</th>\n",
       "      <th>HITPARKEDCAR</th>\n",
       "      <th>SEGLANEKEY</th>\n",
       "      <th>Day of Week</th>\n",
       "      <th>Day of Year</th>\n",
       "      <th>Hour</th>\n",
       "      <th>Minutes</th>\n",
       "    </tr>\n",
       "  </thead>\n",
       "  <tbody>\n",
       "    <tr>\n",
       "      <th>SEVERITYCODE</th>\n",
       "      <td>1.000000</td>\n",
       "      <td>0.008124</td>\n",
       "      <td>0.019388</td>\n",
       "      <td>-0.122864</td>\n",
       "      <td>0.090680</td>\n",
       "      <td>-0.018905</td>\n",
       "      <td>0.006315</td>\n",
       "      <td>0.032138</td>\n",
       "      <td>0.066292</td>\n",
       "    </tr>\n",
       "    <tr>\n",
       "      <th>X</th>\n",
       "      <td>0.008124</td>\n",
       "      <td>1.000000</td>\n",
       "      <td>-0.161839</td>\n",
       "      <td>-0.014061</td>\n",
       "      <td>-0.003790</td>\n",
       "      <td>-0.008329</td>\n",
       "      <td>-0.002699</td>\n",
       "      <td>0.013062</td>\n",
       "      <td>0.011536</td>\n",
       "    </tr>\n",
       "    <tr>\n",
       "      <th>Y</th>\n",
       "      <td>0.019388</td>\n",
       "      <td>-0.161839</td>\n",
       "      <td>1.000000</td>\n",
       "      <td>-0.015108</td>\n",
       "      <td>0.005215</td>\n",
       "      <td>-0.006520</td>\n",
       "      <td>0.007769</td>\n",
       "      <td>0.021623</td>\n",
       "      <td>-0.011116</td>\n",
       "    </tr>\n",
       "    <tr>\n",
       "      <th>HITPARKEDCAR</th>\n",
       "      <td>-0.122864</td>\n",
       "      <td>-0.014061</td>\n",
       "      <td>-0.015108</td>\n",
       "      <td>1.000000</td>\n",
       "      <td>-0.015977</td>\n",
       "      <td>0.014264</td>\n",
       "      <td>0.004149</td>\n",
       "      <td>0.024304</td>\n",
       "      <td>-0.008697</td>\n",
       "    </tr>\n",
       "    <tr>\n",
       "      <th>SEGLANEKEY</th>\n",
       "      <td>0.090680</td>\n",
       "      <td>-0.003790</td>\n",
       "      <td>0.005215</td>\n",
       "      <td>-0.015977</td>\n",
       "      <td>1.000000</td>\n",
       "      <td>-0.016282</td>\n",
       "      <td>0.004285</td>\n",
       "      <td>0.016419</td>\n",
       "      <td>0.014377</td>\n",
       "    </tr>\n",
       "    <tr>\n",
       "      <th>Day of Week</th>\n",
       "      <td>-0.018905</td>\n",
       "      <td>-0.008329</td>\n",
       "      <td>-0.006520</td>\n",
       "      <td>0.014264</td>\n",
       "      <td>-0.016282</td>\n",
       "      <td>1.000000</td>\n",
       "      <td>-0.001437</td>\n",
       "      <td>-0.028312</td>\n",
       "      <td>-0.010451</td>\n",
       "    </tr>\n",
       "    <tr>\n",
       "      <th>Day of Year</th>\n",
       "      <td>0.006315</td>\n",
       "      <td>-0.002699</td>\n",
       "      <td>0.007769</td>\n",
       "      <td>0.004149</td>\n",
       "      <td>0.004285</td>\n",
       "      <td>-0.001437</td>\n",
       "      <td>1.000000</td>\n",
       "      <td>0.027647</td>\n",
       "      <td>0.016598</td>\n",
       "    </tr>\n",
       "    <tr>\n",
       "      <th>Hour</th>\n",
       "      <td>0.032138</td>\n",
       "      <td>0.013062</td>\n",
       "      <td>0.021623</td>\n",
       "      <td>0.024304</td>\n",
       "      <td>0.016419</td>\n",
       "      <td>-0.028312</td>\n",
       "      <td>0.027647</td>\n",
       "      <td>1.000000</td>\n",
       "      <td>0.308383</td>\n",
       "    </tr>\n",
       "    <tr>\n",
       "      <th>Minutes</th>\n",
       "      <td>0.066292</td>\n",
       "      <td>0.011536</td>\n",
       "      <td>-0.011116</td>\n",
       "      <td>-0.008697</td>\n",
       "      <td>0.014377</td>\n",
       "      <td>-0.010451</td>\n",
       "      <td>0.016598</td>\n",
       "      <td>0.308383</td>\n",
       "      <td>1.000000</td>\n",
       "    </tr>\n",
       "  </tbody>\n",
       "</table>\n",
       "</div>"
      ],
      "text/plain": [
       "              SEVERITYCODE         X         Y  HITPARKEDCAR  SEGLANEKEY  \\\n",
       "SEVERITYCODE      1.000000  0.008124  0.019388     -0.122864    0.090680   \n",
       "X                 0.008124  1.000000 -0.161839     -0.014061   -0.003790   \n",
       "Y                 0.019388 -0.161839  1.000000     -0.015108    0.005215   \n",
       "HITPARKEDCAR     -0.122864 -0.014061 -0.015108      1.000000   -0.015977   \n",
       "SEGLANEKEY        0.090680 -0.003790  0.005215     -0.015977    1.000000   \n",
       "Day of Week      -0.018905 -0.008329 -0.006520      0.014264   -0.016282   \n",
       "Day of Year       0.006315 -0.002699  0.007769      0.004149    0.004285   \n",
       "Hour              0.032138  0.013062  0.021623      0.024304    0.016419   \n",
       "Minutes           0.066292  0.011536 -0.011116     -0.008697    0.014377   \n",
       "\n",
       "              Day of Week  Day of Year      Hour   Minutes  \n",
       "SEVERITYCODE    -0.018905     0.006315  0.032138  0.066292  \n",
       "X               -0.008329    -0.002699  0.013062  0.011536  \n",
       "Y               -0.006520     0.007769  0.021623 -0.011116  \n",
       "HITPARKEDCAR     0.014264     0.004149  0.024304 -0.008697  \n",
       "SEGLANEKEY      -0.016282     0.004285  0.016419  0.014377  \n",
       "Day of Week      1.000000    -0.001437 -0.028312 -0.010451  \n",
       "Day of Year     -0.001437     1.000000  0.027647  0.016598  \n",
       "Hour            -0.028312     0.027647  1.000000  0.308383  \n",
       "Minutes         -0.010451     0.016598  0.308383  1.000000  "
      ]
     },
     "execution_count": 23,
     "metadata": {},
     "output_type": "execute_result"
    }
   ],
   "source": [
    "data = clean_df\n",
    "\n",
    "#calculating corr to determine which ones have some influence\n",
    "data.corr(method = 'pearson') #linear relation"
   ]
  },
  {
   "cell_type": "code",
   "execution_count": 18,
   "metadata": {},
   "outputs": [
    {
     "data": {
      "text/html": [
       "<div>\n",
       "<style scoped>\n",
       "    .dataframe tbody tr th:only-of-type {\n",
       "        vertical-align: middle;\n",
       "    }\n",
       "\n",
       "    .dataframe tbody tr th {\n",
       "        vertical-align: top;\n",
       "    }\n",
       "\n",
       "    .dataframe thead th {\n",
       "        text-align: right;\n",
       "    }\n",
       "</style>\n",
       "<table border=\"1\" class=\"dataframe\">\n",
       "  <thead>\n",
       "    <tr style=\"text-align: right;\">\n",
       "      <th></th>\n",
       "      <th>SEVERITYCODE</th>\n",
       "      <th>X</th>\n",
       "      <th>Y</th>\n",
       "      <th>HITPARKEDCAR</th>\n",
       "      <th>SEGLANEKEY</th>\n",
       "      <th>Day of Week</th>\n",
       "      <th>Day of Year</th>\n",
       "      <th>Hour</th>\n",
       "      <th>Minutes</th>\n",
       "    </tr>\n",
       "  </thead>\n",
       "  <tbody>\n",
       "    <tr>\n",
       "      <th>SEVERITYCODE</th>\n",
       "      <td>1.000000</td>\n",
       "      <td>0.005350</td>\n",
       "      <td>0.016026</td>\n",
       "      <td>-0.124127</td>\n",
       "      <td>0.136259</td>\n",
       "      <td>-0.018970</td>\n",
       "      <td>0.004470</td>\n",
       "      <td>0.028514</td>\n",
       "      <td>0.074994</td>\n",
       "    </tr>\n",
       "    <tr>\n",
       "      <th>X</th>\n",
       "      <td>0.005350</td>\n",
       "      <td>1.000000</td>\n",
       "      <td>-0.163234</td>\n",
       "      <td>-0.014506</td>\n",
       "      <td>-0.005966</td>\n",
       "      <td>-0.009967</td>\n",
       "      <td>0.000671</td>\n",
       "      <td>0.008180</td>\n",
       "      <td>0.009119</td>\n",
       "    </tr>\n",
       "    <tr>\n",
       "      <th>Y</th>\n",
       "      <td>0.016026</td>\n",
       "      <td>-0.163234</td>\n",
       "      <td>1.000000</td>\n",
       "      <td>-0.015563</td>\n",
       "      <td>0.021462</td>\n",
       "      <td>-0.007474</td>\n",
       "      <td>0.008321</td>\n",
       "      <td>0.020364</td>\n",
       "      <td>-0.020735</td>\n",
       "    </tr>\n",
       "    <tr>\n",
       "      <th>HITPARKEDCAR</th>\n",
       "      <td>-0.124127</td>\n",
       "      <td>-0.014506</td>\n",
       "      <td>-0.015563</td>\n",
       "      <td>1.000000</td>\n",
       "      <td>-0.023286</td>\n",
       "      <td>0.014961</td>\n",
       "      <td>0.001475</td>\n",
       "      <td>0.025915</td>\n",
       "      <td>-0.015793</td>\n",
       "    </tr>\n",
       "    <tr>\n",
       "      <th>SEGLANEKEY</th>\n",
       "      <td>0.136259</td>\n",
       "      <td>-0.005966</td>\n",
       "      <td>0.021462</td>\n",
       "      <td>-0.023286</td>\n",
       "      <td>1.000000</td>\n",
       "      <td>-0.024808</td>\n",
       "      <td>0.004446</td>\n",
       "      <td>0.019258</td>\n",
       "      <td>0.023996</td>\n",
       "    </tr>\n",
       "    <tr>\n",
       "      <th>Day of Week</th>\n",
       "      <td>-0.018970</td>\n",
       "      <td>-0.009967</td>\n",
       "      <td>-0.007474</td>\n",
       "      <td>0.014961</td>\n",
       "      <td>-0.024808</td>\n",
       "      <td>1.000000</td>\n",
       "      <td>-0.004411</td>\n",
       "      <td>-0.007601</td>\n",
       "      <td>-0.012925</td>\n",
       "    </tr>\n",
       "    <tr>\n",
       "      <th>Day of Year</th>\n",
       "      <td>0.004470</td>\n",
       "      <td>0.000671</td>\n",
       "      <td>0.008321</td>\n",
       "      <td>0.001475</td>\n",
       "      <td>0.004446</td>\n",
       "      <td>-0.004411</td>\n",
       "      <td>1.000000</td>\n",
       "      <td>0.025470</td>\n",
       "      <td>0.016563</td>\n",
       "    </tr>\n",
       "    <tr>\n",
       "      <th>Hour</th>\n",
       "      <td>0.028514</td>\n",
       "      <td>0.008180</td>\n",
       "      <td>0.020364</td>\n",
       "      <td>0.025915</td>\n",
       "      <td>0.019258</td>\n",
       "      <td>-0.007601</td>\n",
       "      <td>0.025470</td>\n",
       "      <td>1.000000</td>\n",
       "      <td>0.296243</td>\n",
       "    </tr>\n",
       "    <tr>\n",
       "      <th>Minutes</th>\n",
       "      <td>0.074994</td>\n",
       "      <td>0.009119</td>\n",
       "      <td>-0.020735</td>\n",
       "      <td>-0.015793</td>\n",
       "      <td>0.023996</td>\n",
       "      <td>-0.012925</td>\n",
       "      <td>0.016563</td>\n",
       "      <td>0.296243</td>\n",
       "      <td>1.000000</td>\n",
       "    </tr>\n",
       "  </tbody>\n",
       "</table>\n",
       "</div>"
      ],
      "text/plain": [
       "              SEVERITYCODE         X         Y  HITPARKEDCAR  SEGLANEKEY  \\\n",
       "SEVERITYCODE      1.000000  0.005350  0.016026     -0.124127    0.136259   \n",
       "X                 0.005350  1.000000 -0.163234     -0.014506   -0.005966   \n",
       "Y                 0.016026 -0.163234  1.000000     -0.015563    0.021462   \n",
       "HITPARKEDCAR     -0.124127 -0.014506 -0.015563      1.000000   -0.023286   \n",
       "SEGLANEKEY        0.136259 -0.005966  0.021462     -0.023286    1.000000   \n",
       "Day of Week      -0.018970 -0.009967 -0.007474      0.014961   -0.024808   \n",
       "Day of Year       0.004470  0.000671  0.008321      0.001475    0.004446   \n",
       "Hour              0.028514  0.008180  0.020364      0.025915    0.019258   \n",
       "Minutes           0.074994  0.009119 -0.020735     -0.015793    0.023996   \n",
       "\n",
       "              Day of Week  Day of Year      Hour   Minutes  \n",
       "SEVERITYCODE    -0.018970     0.004470  0.028514  0.074994  \n",
       "X               -0.009967     0.000671  0.008180  0.009119  \n",
       "Y               -0.007474     0.008321  0.020364 -0.020735  \n",
       "HITPARKEDCAR     0.014961     0.001475  0.025915 -0.015793  \n",
       "SEGLANEKEY      -0.024808     0.004446  0.019258  0.023996  \n",
       "Day of Week      1.000000    -0.004411 -0.007601 -0.012925  \n",
       "Day of Year     -0.004411     1.000000  0.025470  0.016563  \n",
       "Hour            -0.007601     0.025470  1.000000  0.296243  \n",
       "Minutes         -0.012925     0.016563  0.296243  1.000000  "
      ]
     },
     "execution_count": 18,
     "metadata": {},
     "output_type": "execute_result"
    }
   ],
   "source": [
    "data.corr(method = 'spearman') #non-linear relation"
   ]
  },
  {
   "cell_type": "markdown",
   "metadata": {},
   "source": [
    "So no clear relations. "
   ]
  },
  {
   "cell_type": "markdown",
   "metadata": {},
   "source": [
    "**Exploring Descriptive Statistics**"
   ]
  },
  {
   "cell_type": "code",
   "execution_count": 24,
   "metadata": {},
   "outputs": [
    {
     "data": {
      "text/html": [
       "<div>\n",
       "<style scoped>\n",
       "    .dataframe tbody tr th:only-of-type {\n",
       "        vertical-align: middle;\n",
       "    }\n",
       "\n",
       "    .dataframe tbody tr th {\n",
       "        vertical-align: top;\n",
       "    }\n",
       "\n",
       "    .dataframe thead th {\n",
       "        text-align: right;\n",
       "    }\n",
       "</style>\n",
       "<table border=\"1\" class=\"dataframe\">\n",
       "  <thead>\n",
       "    <tr style=\"text-align: right;\">\n",
       "      <th></th>\n",
       "      <th>WEATHER</th>\n",
       "      <th>ROADCOND</th>\n",
       "      <th>LIGHTCOND</th>\n",
       "    </tr>\n",
       "  </thead>\n",
       "  <tbody>\n",
       "    <tr>\n",
       "      <th>count</th>\n",
       "      <td>112026</td>\n",
       "      <td>112026</td>\n",
       "      <td>112026</td>\n",
       "    </tr>\n",
       "    <tr>\n",
       "      <th>unique</th>\n",
       "      <td>11</td>\n",
       "      <td>9</td>\n",
       "      <td>9</td>\n",
       "    </tr>\n",
       "    <tr>\n",
       "      <th>top</th>\n",
       "      <td>Clear</td>\n",
       "      <td>Dry</td>\n",
       "      <td>Daylight</td>\n",
       "    </tr>\n",
       "    <tr>\n",
       "      <th>freq</th>\n",
       "      <td>67370</td>\n",
       "      <td>75401</td>\n",
       "      <td>70934</td>\n",
       "    </tr>\n",
       "  </tbody>\n",
       "</table>\n",
       "</div>"
      ],
      "text/plain": [
       "       WEATHER ROADCOND LIGHTCOND\n",
       "count   112026   112026    112026\n",
       "unique      11        9         9\n",
       "top      Clear      Dry  Daylight\n",
       "freq     67370    75401     70934"
      ]
     },
     "execution_count": 24,
     "metadata": {},
     "output_type": "execute_result"
    }
   ],
   "source": [
    "data.describe(include = 'object')"
   ]
  },
  {
   "cell_type": "markdown",
   "metadata": {},
   "source": [
    "## Modelling & Evaluation"
   ]
  },
  {
   "cell_type": "markdown",
   "metadata": {},
   "source": [
    "This is a classification problem. Classification algorithms that might work:\n",
    "- SVM\n",
    "- Logistic Regression\n",
    "- Decision Trees"
   ]
  },
  {
   "cell_type": "markdown",
   "metadata": {},
   "source": [
    "### Decision Tree"
   ]
  },
  {
   "cell_type": "markdown",
   "metadata": {},
   "source": [
    "Stages of process:\n",
    "1. Pre-process:\n",
    "    - Dummy encode categorical data\n",
    "    - segregate features & response\n",
    "2. Test/Train Split\n",
    "3. Model\n",
    "4. Evaluate"
   ]
  },
  {
   "cell_type": "markdown",
   "metadata": {},
   "source": [
    "### Pre-processing"
   ]
  },
  {
   "cell_type": "code",
   "execution_count": 20,
   "metadata": {},
   "outputs": [
    {
     "data": {
      "text/plain": [
       "Index(['SEVERITYCODE', 'X', 'Y', 'WEATHER', 'ROADCOND', 'LIGHTCOND',\n",
       "       'HITPARKEDCAR', 'SEGLANEKEY', 'Day of Week', 'Day of Year', 'Date',\n",
       "       'Hour', 'Minutes'],\n",
       "      dtype='object')"
      ]
     },
     "execution_count": 20,
     "metadata": {},
     "output_type": "execute_result"
    }
   ],
   "source": [
    "clean_df.columns"
   ]
  },
  {
   "cell_type": "code",
   "execution_count": 21,
   "metadata": {},
   "outputs": [
    {
     "data": {
      "text/plain": [
       "array([[-122.33597340000001, 47.59137844, 'Clear', 'Dry', 'Daylight', 0,\n",
       "        0, 7, 0, 1, 290],\n",
       "       [-122.34542330000001, 47.51730344, 'Clear', 'Wet',\n",
       "        'Dark - Street Lights On', 0, 0, 21, 53, 4, 6],\n",
       "       [-122.3290618, 47.5705371, 'Clear', 'Dry',\n",
       "        'Dark - Street Lights On', 0, 0, 0, 37, 1, 283],\n",
       "       [-122.2951314, 47.5819589, 'Clear', 'Dry',\n",
       "        'Dark - Street Lights On', 0, 0, 1, 29, 1, 178],\n",
       "       [-122.3600994, 47.52286134, 'Raining', 'Wet', 'Dusk', 0, 0, 15,\n",
       "        27, 6, 337]], dtype=object)"
      ]
     },
     "execution_count": 21,
     "metadata": {},
     "output_type": "execute_result"
    }
   ],
   "source": [
    "# Convert the Pandas data frame to a Numpy array to use scikit-learn library \n",
    "X = clean_df[['X', 'Y', 'WEATHER', 'ROADCOND', 'LIGHTCOND', 'HITPARKEDCAR', 'SEGLANEKEY', 'Hour', 'Minutes', 'Day of Week', 'Day of Year']] .values  \n",
    "X[0:5]"
   ]
  },
  {
   "cell_type": "code",
   "execution_count": 22,
   "metadata": {},
   "outputs": [
    {
     "data": {
      "text/plain": [
       "array([[-122.33597340000001, 47.59137844, 1, 0, 5, 0, 0, 7, 0, 1, 290],\n",
       "       [-122.34542330000001, 47.51730344, 1, 8, 2, 0, 0, 21, 53, 4, 6],\n",
       "       [-122.3290618, 47.5705371, 1, 0, 2, 0, 0, 0, 37, 1, 283],\n",
       "       [-122.2951314, 47.5819589, 1, 0, 2, 0, 0, 1, 29, 1, 178],\n",
       "       [-122.3600994, 47.52286134, 6, 8, 6, 0, 0, 15, 27, 6, 337]],\n",
       "      dtype=object)"
      ]
     },
     "execution_count": 22,
     "metadata": {},
     "output_type": "execute_result"
    }
   ],
   "source": [
    "le_weather = preprocessing.LabelEncoder()\n",
    "le_weather.fit(['Clear', 'Unknown', 'Overcast', 'Raining', 'Snowing', 'Sleet/Hail/Freezing Rain', 'Fog/Smog/Smoke', 'Other', 'Severe Crosswind', 'Blowing Sand/Dirt', 'Partly Cloudy'])\n",
    "X[:,2] = le_weather.transform(X[:,2]) \n",
    "\n",
    "le_roadcond = preprocessing.LabelEncoder()\n",
    "le_roadcond.fit(['Dry', 'Wet', 'Unknown', 'Snow/Slush', 'Ice', 'Sand/Mud/Dirt', 'Standing Water', 'Other', 'Oil'])\n",
    "X[:,3] = le_roadcond.transform(X[:,3])\n",
    "\n",
    "le_lightcond = preprocessing.LabelEncoder()\n",
    "le_lightcond.fit(['Daylight', 'Dark - Street Lights On', 'Dark - Street Lights Off', 'Dawn', 'Unknown', 'Dusk', 'Dark - No Street Lights', 'Other','Dark - Unknown Lighting'])\n",
    "X[:,4] = le_lightcond.transform(X[:,4]) \n",
    "\n",
    "X[:5]"
   ]
  },
  {
   "cell_type": "code",
   "execution_count": 23,
   "metadata": {},
   "outputs": [
    {
     "data": {
      "text/plain": [
       "114030    1\n",
       "114031    1\n",
       "114034    1\n",
       "114029    1\n",
       "114038    1\n",
       "Name: SEVERITYCODE, dtype: int64"
      ]
     },
     "execution_count": 23,
     "metadata": {},
     "output_type": "execute_result"
    }
   ],
   "source": [
    "y = clean_df[\"SEVERITYCODE\"]\n",
    "y[:5]"
   ]
  },
  {
   "cell_type": "markdown",
   "metadata": {},
   "source": [
    "### Setting up the decision tree"
   ]
  },
  {
   "cell_type": "code",
   "execution_count": 24,
   "metadata": {},
   "outputs": [
    {
     "name": "stdout",
     "output_type": "stream",
     "text": [
      "Shape of X_trainset : (78418, 11) \n",
      "Shape of y_trainset : (78418,)\n"
     ]
    }
   ],
   "source": [
    "# test-train split\n",
    "X_trainset, X_testset, y_trainset, y_testset = train_test_split(X, y, test_size=0.3, random_state=3)\n",
    "print('Shape of X_trainset :',X_trainset.shape,'\\nShape of y_trainset :',y_trainset.shape)"
   ]
  },
  {
   "cell_type": "code",
   "execution_count": 25,
   "metadata": {},
   "outputs": [
    {
     "data": {
      "text/plain": [
       "(112026, 13)"
      ]
     },
     "execution_count": 25,
     "metadata": {},
     "output_type": "execute_result"
    }
   ],
   "source": [
    "data.shape"
   ]
  },
  {
   "cell_type": "code",
   "execution_count": 26,
   "metadata": {},
   "outputs": [
    {
     "data": {
      "image/png": "[encoded data removed]",
      "text/plain": [
       "<Figure size 432x288 with 1 Axes>"
      ]
     },
     "metadata": {
      "needs_background": "light"
     },
     "output_type": "display_data"
    },
    {
     "name": "stdout",
     "output_type": "stream",
     "text": [
      "Depth With Max Accuracy : 7 \n",
      "Max accuracy : 0.5789692930254702\n",
      "\n",
      "\n"
     ]
    }
   ],
   "source": [
    "\n",
    "Ks = 13\n",
    "mean_acc= np.zeros((Ks-1))\n",
    "std_acc = np.zeros((Ks-1))\n",
    "ConfustionMx = [];\n",
    "for n in range(1,Ks):\n",
    "    \n",
    "    #Train Model and Predict  \n",
    "    k_hunter = DecisionTreeClassifier(criterion=\"entropy\", max_depth = n).fit(X_trainset,y_trainset)\n",
    "    y_hat2=k_hunter.predict(X_testset)\n",
    "    mean_acc[n-1] = accuracy_score(y_testset, y_hat2)\n",
    "    std_acc[n-1]=np.std(y_hat2==y_testset)/np.sqrt(y_hat2.shape[0])\n",
    "\n",
    "plt.plot(range(1,Ks),mean_acc,'g')\n",
    "plt.fill_between(range(1,Ks),mean_acc - 1 * std_acc,mean_acc + 1 * std_acc, alpha=0.10)\n",
    "plt.legend(('Accuracy ', '+/- 3xstd'))\n",
    "plt.ylabel('Accuracy ')\n",
    "plt.xlabel('Depth')\n",
    "plt.tight_layout()\n",
    "plt.show()\n",
    "\n",
    "Tree_optimizers = []\n",
    "for i in range(0,len(mean_acc)-1):\n",
    "    if mean_acc[i] == mean_acc.max():\n",
    "        Tree_optimizers.append(i)\n",
    "        print('Depth With Max Accuracy :',i,'\\nMax accuracy :',mean_acc.max())\n",
    "\n",
    "print('\\n')\n",
    "depth_optimized = Tree_optimizers[0]\n",
    "Tree_optimized = DecisionTreeClassifier(criterion=\"entropy\", max_depth = depth_optimized)\n",
    "Tree_optimized.fit(X_trainset,y_trainset)\n",
    "y_hat_optimized = Tree_optimized.predict(X_testset)"
   ]
  },
  {
   "cell_type": "code",
   "execution_count": 27,
   "metadata": {},
   "outputs": [
    {
     "name": "stdout",
     "output_type": "stream",
     "text": [
      "AI's Accuracy:  0.58\n",
      "AI's Jaccard Similarity Index:  0.29\n",
      "AI's F1 Score :  0.45\n",
      "AI's Log Loss:  17.46\n"
     ]
    }
   ],
   "source": [
    "# Build the model\n",
    "SeverityTree = DecisionTreeClassifier(criterion=\"entropy\", max_depth = 11)\n",
    "SeverityTree # it shows the default parameters\n",
    "\n",
    "# Fit the model\n",
    "SeverityTree.fit(X_trainset,y_trainset)\n",
    "\n",
    "# Make predictions\n",
    "predTree = SeverityTree.predict(X_testset)\n",
    "evaluate_ai (y_testset, predTree)"
   ]
  },
  {
   "cell_type": "markdown",
   "metadata": {},
   "source": [
    "### KNN"
   ]
  },
  {
   "cell_type": "code",
   "execution_count": 28,
   "metadata": {},
   "outputs": [
    {
     "data": {
      "image/png": "[encoded data removed]",
      "text/plain": [
       "<Figure size 432x288 with 1 Axes>"
      ]
     },
     "metadata": {
      "needs_background": "light"
     },
     "output_type": "display_data"
    },
    {
     "name": "stdout",
     "output_type": "stream",
     "text": [
      "Number of Neighbors With Max Accuracy : 35 \n",
      "Max accuracy : 0.5493930016662699\n",
      "\n",
      "\n"
     ]
    }
   ],
   "source": [
    "Ks = 60\n",
    "mean_acc = np.zeros((Ks-1))\n",
    "std_acc = np.zeros((Ks-1))\n",
    "ConfustionMx = [];\n",
    "for n in range(1,Ks):\n",
    "    \n",
    "    #Train Model and Predict  \n",
    "    k_hunter = KNeighborsClassifier(n_neighbors = n).fit(X_trainset,y_trainset)\n",
    "    y_hat2=k_hunter.predict(X_testset)\n",
    "    mean_acc[n-1] = accuracy_score(y_testset, y_hat2)\n",
    "    std_acc[n-1]=np.std(y_hat2==y_testset)/np.sqrt(y_hat2.shape[0])\n",
    "\n",
    "plt.plot(range(1,Ks),mean_acc,'g')\n",
    "plt.fill_between(range(1,Ks),mean_acc - 1 * std_acc,mean_acc + 1 * std_acc, alpha=0.10)\n",
    "plt.legend(('Accuracy ', '+/- 3xstd'))\n",
    "plt.ylabel('Accuracy ')\n",
    "plt.xlabel('Number of Neighbors (K)')\n",
    "plt.tight_layout()\n",
    "plt.show()\n",
    "\n",
    "knn_optimizers = []\n",
    "for i in range(0,len(mean_acc)-1):\n",
    "    if mean_acc[i] == mean_acc.max():\n",
    "        knn_optimizers.append(i)\n",
    "        print('Number of Neighbors With Max Accuracy :',i,'\\nMax accuracy :',mean_acc.max())\n",
    "knn_optimizers\n",
    "\n",
    "print('\\n')\n",
    "k_optimized = knn_optimizers[0]\n",
    "knn_optimized = KNeighborsClassifier(n_neighbors=k_optimized, algorithm='auto')\n",
    "knn_optimized.fit(X_trainset,y_trainset)\n",
    "y_hat_optimized = knn_optimized.predict(X_testset)"
   ]
  },
  {
   "cell_type": "code",
   "execution_count": 29,
   "metadata": {},
   "outputs": [
    {
     "name": "stdout",
     "output_type": "stream",
     "text": [
      "AI's Accuracy:  0.55\n",
      "AI's Jaccard Similarity Index:  0.35\n",
      "AI's F1 Score :  0.52\n",
      "AI's Log Loss:  17.46\n"
     ]
    }
   ],
   "source": [
    "# Build the model\n",
    "SeverityNeigh = KNeighborsClassifier(n_neighbors = 21).fit(X_trainset,y_trainset)\n",
    "SeverityNeigh # it shows the default parameters\n",
    "\n",
    "# Fit the model\n",
    "SeverityNeigh.fit(X_trainset,y_trainset)\n",
    "\n",
    "# Make predictions\n",
    "predNeigh = SeverityNeigh.predict(X_testset)\n",
    "evaluate_ai (y_testset, predNeigh)"
   ]
  },
  {
   "cell_type": "markdown",
   "metadata": {},
   "source": [
    "### Support Vector Machine"
   ]
  },
  {
   "cell_type": "code",
   "execution_count": 26,
   "metadata": {
    "collapsed": true,
    "jupyter": {
     "outputs_hidden": true
    }
   },
   "outputs": [
    {
     "ename": "NameError",
     "evalue": "name 'X_test' is not defined",
     "output_type": "error",
     "traceback": [
      "\u001b[1;31m---------------------------------------------------------------------------\u001b[0m",
      "\u001b[1;31mNameError\u001b[0m                                 Traceback (most recent call last)",
      "\u001b[1;32m<ipython-input-26-fc84902398c8>\u001b[0m in \u001b[0;36m<module>\u001b[1;34m\u001b[0m\n\u001b[0;32m      5\u001b[0m \u001b[0mclf\u001b[0m \u001b[1;33m=\u001b[0m \u001b[0msvm\u001b[0m\u001b[1;33m.\u001b[0m\u001b[0mSVC\u001b[0m\u001b[1;33m(\u001b[0m\u001b[0mkernel\u001b[0m\u001b[1;33m=\u001b[0m\u001b[1;34m'linear'\u001b[0m\u001b[1;33m,\u001b[0m \u001b[0mgamma\u001b[0m \u001b[1;33m=\u001b[0m \u001b[1;34m'auto'\u001b[0m\u001b[1;33m)\u001b[0m\u001b[1;33m\u001b[0m\u001b[1;33m\u001b[0m\u001b[0m\n\u001b[0;32m      6\u001b[0m \u001b[0mclf\u001b[0m\u001b[1;33m.\u001b[0m\u001b[0mfit\u001b[0m\u001b[1;33m(\u001b[0m\u001b[0mX_trainset\u001b[0m\u001b[1;33m,\u001b[0m\u001b[0my_trainset\u001b[0m\u001b[1;33m)\u001b[0m\u001b[1;33m\u001b[0m\u001b[1;33m\u001b[0m\u001b[0m\n\u001b[1;32m----> 7\u001b[1;33m \u001b[0my_hat\u001b[0m \u001b[1;33m=\u001b[0m \u001b[0mclf\u001b[0m\u001b[1;33m.\u001b[0m\u001b[0mpredict\u001b[0m\u001b[1;33m(\u001b[0m\u001b[0mX_test\u001b[0m\u001b[1;33m)\u001b[0m\u001b[1;33m\u001b[0m\u001b[1;33m\u001b[0m\u001b[0m\n\u001b[0m\u001b[0;32m      8\u001b[0m \u001b[0mevaluate_ai\u001b[0m \u001b[1;33m(\u001b[0m\u001b[0my_testset\u001b[0m\u001b[1;33m,\u001b[0m \u001b[0my_hat\u001b[0m\u001b[1;33m)\u001b[0m\u001b[1;33m\u001b[0m\u001b[1;33m\u001b[0m\u001b[0m\n",
      "\u001b[1;31mNameError\u001b[0m: name 'X_test' is not defined"
     ]
    }
   ],
   "source": [
    "# going with this one only because don't have resources to figure out optimum\n",
    "# should look up cleaver ways to figure out optimum ones\n",
    "# should work on tensor flow and deep learning\n",
    "\n",
    "clf = svm.SVC(kernel='linear', gamma = 'auto')\n",
    "clf.fit(X_trainset,y_trainset)\n",
    "y_hat = clf.predict(X_testset)\n",
    "evaluate_ai (y_testset, y_hat)"
   ]
  },
  {
   "cell_type": "code",
   "execution_count": 27,
   "metadata": {},
   "outputs": [
    {
     "name": "stdout",
     "output_type": "stream",
     "text": [
      "AI's Accuracy:  0.56\n",
      "AI's Jaccard Similarity Index:  0.33\n",
      "AI's F1 Score :  0.5\n",
      "AI's Log Loss:  17.46\n"
     ]
    }
   ],
   "source": [
    "# results calculated on a faster machine using the code above"
   ]
  },
  {
   "cell_type": "markdown",
   "metadata": {},
   "source": [
    "## Results and Discussion <a name=\"results\"></a>"
   ]
  },
  {
   "cell_type": "markdown",
   "metadata": {},
   "source": [
    "Various factors were evaluated using linear and non-linear correlations which required them to be encoded in numerical values from the original texts. Descriptive statistical analysis was also carried out. All in all, no significant realtion was identified with any single variable which suggested that multiple variables were at play. \n",
    "\n",
    "Since this problem involves assigning labels and not calculating numbers, multiple linear/polynomial regression analysis was not feasible and classification techniques were employed.\n",
    "\n",
    "Both, Decision Trees and K-Nearest Neighbours were optimzied by running them through k depth/neighbours and the most accurate ones were tested for accuracy via accuracy test, F1 score and Jaccard's Similarity Index. \n",
    "\n",
    "Optimized KNN scored better on accuracy test and F1 score whearas decision tree scored better on jaccard similarity index. Owing to better scores and jaccard concept's not truely being a good test since severities ought to be mutually exclusive, KNN is the better option. \n",
    "\n",
    "KNN's 56% accuracy on a train-test split ratio of 7:3 confirms the initial assumption that in fact, multiple factors are playing a role to affect the severity of an accident. "
   ]
  },
  {
   "cell_type": "markdown",
   "metadata": {},
   "source": [
    "## Conclusion <a name=\"conclusion\"></a>"
   ]
  },
  {
   "cell_type": "markdown",
   "metadata": {},
   "source": [
    "Purpose of the project was to develop a reliable system to help assess the severity of the distress calls. Via Artificial Intelligence application on refined data, this was achieved though the accuracy of the model should be worked on futher. \n",
    "\n",
    "Final decision on the severity, for now, should be made by the human agents while more work is carred out to improve the model. However, given that the location of the accident and some environmental condition can be used to correctly assess severity codes for 60% of the accidents is a feat and with a little more accuracy, this model can actually be deployed. "
   ]
  }
 ],
 "metadata": {
  "kernelspec": {
   "display_name": "Python 3",
   "language": "python",
   "name": "python3"
  },
  "language_info": {
   "codemirror_mode": {
    "name": "ipython",
    "version": 3
   },
   "file_extension": ".py",
   "mimetype": "text/x-python",
   "name": "python",
   "nbconvert_exporter": "python",
   "pygments_lexer": "ipython3",
   "version": "3.7.6"
  }
 },
 "nbformat": 4,
 "nbformat_minor": 4
}
